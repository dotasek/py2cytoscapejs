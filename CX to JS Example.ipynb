{
 "cells": [
  {
   "cell_type": "code",
   "execution_count": 1,
   "metadata": {},
   "outputs": [
    {
     "data": {
      "application/javascript": [
       "if (window['cytoscape'] === undefined) {\n",
       "    var paths = {\n",
       "        cytoscape: 'https://rawgit.com/cytoscape/cytoscape.js/master/dist/cytoscape'\n",
       "    };\n",
       "\n",
       "    require.config({\n",
       "        paths: paths\n",
       "    });\n",
       "\n",
       "    require(['cytoscape'], function (cytoscape) {\n",
       "        console.log('Loading Cytoscape.js Module...');\n",
       "        window['cytoscape'] = cytoscape;\n",
       "\n",
       "        var event = document.createEvent(\"HTMLEvents\");\n",
       "        event.initEvent(\"load_cytoscape\", true, false);\n",
       "        window.dispatchEvent(event);\n",
       "    });\n",
       "\n",
       "}\n"
      ],
      "text/plain": [
       "<IPython.core.display.Javascript object>"
      ]
     },
     "metadata": {},
     "output_type": "display_data"
    }
   ],
   "source": [
    "import json\n",
    "import py2cytoscape.cytoscapejs as renderer"
   ]
  },
  {
   "cell_type": "code",
   "execution_count": 2,
   "metadata": {
    "scrolled": true
   },
   "outputs": [
    {
     "data": {
      "text/html": [
       "<!DOCTYPE html>\n",
       "<html>\n",
       "<head>\n",
       "    <meta charset=utf-8 />\n",
       "    <style type=\"text/css\">\n",
       "      body {\n",
       "          font: 14px helvetica neue, helvetica, arial, sans-serif;\n",
       "      }\n",
       "\n",
       "      #cyce81c367-b7e6-440b-87e3-cca0b680afc9 {\n",
       "        height: 400px;\n",
       "        width: 800px;\n",
       "        position: absolute;\n",
       "        left: 4px;\n",
       "        top: 5px;\n",
       "        background: #FFFFFF;\n",
       "      }\n",
       "    </style>\n",
       "\n",
       "    <script>\n",
       "    (function() {\n",
       "      function render() {\n",
       "        var cy = cytoscape({\n",
       "            container: document.getElementById('cyce81c367-b7e6-440b-87e3-cca0b680afc9'),\n",
       "            elements: [{\"data\": {\"id\": \"a\"}}, {\"data\": {\"id\": \"b\"}}, {\"data\": {\"id\": \"c\"}}, {\"data\": {\"id\": \"ab\", \"source\": \"a\", \"target\": \"b\"}}]\n",
       "        });\n",
       "      }\n",
       "\n",
       "      var before_render = function(){\n",
       "        if(window['cytoscape'] === undefined){\n",
       "          console.log(\"Waiting for Cyjs...\");\n",
       "          window.addEventListener(\"load_cytoscape\", before_render);\n",
       "        } else {\n",
       "          console.log(\"Ready to render graph!\");\n",
       "          render();\n",
       "        }\n",
       "      }\n",
       "\n",
       "      before_render();\n",
       "\n",
       "    })();\n",
       "    </script>\n",
       "</head>\n",
       "\n",
       "<body>\n",
       "  <div id=\"cyce81c367-b7e6-440b-87e3-cca0b680afc9\"></div>\n",
       "  <!-- When only #uuid div is placed on this page,\n",
       "  the height of output-box on ipynb will be 0px.\n",
       "  One line below will prevent that. -->\n",
       "  <div id=\"dummy\" style=\"width:800px;height:400px\">\n",
       "</body>\n",
       "\n",
       "</html>"
      ],
      "text/plain": [
       "<IPython.core.display.HTML object>"
      ]
     },
     "metadata": {},
     "output_type": "display_data"
    }
   ],
   "source": [
    "elements = [\n",
    "    { 'data': { 'id': 'a' } },\n",
    "    { 'data': { 'id': 'b' } },\n",
    "    { 'data': { 'id': 'c' } },\n",
    "    {\n",
    "      'data': {\n",
    "        'id': 'ab',\n",
    "        'source': 'a',\n",
    "        'target': 'b'\n",
    "      }\n",
    "    }]\n",
    "renderer.render(elements=elements, style='default2', layout_algorithm='preset', background='#FFFFFF', height=400, width=800)"
   ]
  },
  {
   "cell_type": "code",
   "execution_count": null,
   "metadata": {},
   "outputs": [],
   "source": []
  },
  {
   "cell_type": "code",
   "execution_count": null,
   "metadata": {},
   "outputs": [],
   "source": []
  }
 ],
 "metadata": {
  "kernelspec": {
   "display_name": "Python 3",
   "language": "python",
   "name": "python3"
  },
  "language_info": {
   "codemirror_mode": {
    "name": "ipython",
    "version": 3
   },
   "file_extension": ".py",
   "mimetype": "text/x-python",
   "name": "python",
   "nbconvert_exporter": "python",
   "pygments_lexer": "ipython3",
   "version": "3.6.5"
  }
 },
 "nbformat": 4,
 "nbformat_minor": 2
}
